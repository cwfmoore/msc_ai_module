{
 "cells": [
  {
   "cell_type": "markdown",
   "id": "fca9628a",
   "metadata": {},
   "source": [
    "# 1. Setup"
   ]
  },
  {
   "cell_type": "markdown",
   "id": "b54bb972",
   "metadata": {},
   "source": [
    "## 1.A Summary\n",
    "\n",
    "### <span style=\"color: #e74c3c;\">**k-Nearest Neighbours Implementation Summary**</span>\n",
    "\n",
    "This notebook implements **k-Nearest Neighbours (k-NN)** classification to predict student withdrawal risk using the preprocessed student dataset.\n",
    "\n",
    "### <span style=\"color: #2E86AB;\">**1. Algorithm Overview**</span>\n",
    "\n",
    "**k-Nearest Neighbours** is a **non-parametric, instance-based learning algorithm** that makes predictions by:\n",
    "- Finding the k closest data points to a new instance\n",
    "- Using majority voting amongst these neighbours to determine classification\n",
    "- Making no assumptions about the underlying data distribution\n",
    "\n",
    "**Key characteristics:**\n",
    "- **Lazy learning**: No explicit training phase - stores all data points\n",
    "- **Distance-based**: Uses similarity measures (typically Euclidean distance)\n",
    "- **Local decision boundaries**: Adapts to local patterns in the data\n",
    "\n",
    "### <span style=\"color: #2E86AB;\">**2. Binary Classification Setup**</span>\n",
    "\n",
    "**Target transformation**: Combined \"Graduate\" and \"Enrolled\" into \"Continuation\" (1), with \"Dropout\" as \"Withdrawn\" (0), creating a balanced 68:32 class distribution suitable for k-NN's majority voting mechanism.\n",
    "\n",
    "**Dataset**: 4,424 students with preprocessed features ready for distance-based classification.\n",
    "\n",
    "### <span style=\"color: #2E86AB;\">**3. Preprocessing Requirements**</span>\n",
    "\n",
    "**Essential for k-NN performance:**\n",
    "- **Feature scaling**: StandardScaler applied to prevent features with larger ranges from dominating distance calculations\n",
    "- **One-hot encoding**: Categorical features converted to binary dummy variables\n",
    "- **Feature selection**: Remove redundant and uninformative features identified in earlier analysis\n",
    "\n",
    "### <span style=\"color: #2E86AB;\">**4. Model Configuration**</span>\n",
    "\n",
    "**Hyperparameter tuning** focuses on:\n",
    "- **k value**: Number of neighbours to consider (typically odd numbers to avoid ties)\n",
    "- **Distance metric**: Euclidean distance for continuous features\n",
    "- **Weighting scheme**: Uniform vs distance-weighted voting\n",
    "\n",
    "### <span style=\"color: #e74c3c;\">**Expected Outcomes**</span>\n",
    "\n",
    "This implementation will evaluate k-NN's effectiveness for student dropout prediction, comparing performance against logistic regression whilst addressing the algorithm's sensitivity to feature scaling and dimensionality."
   ]
  },
  {
   "cell_type": "markdown",
   "id": "d9b623de",
   "metadata": {},
   "source": [
    "## 1.B Libraries Import"
   ]
  },
  {
   "cell_type": "code",
   "execution_count": null,
   "id": "a80f1aae",
   "metadata": {},
   "outputs": [],
   "source": [
    "from tools import Tools\n",
    "import pandas as pd\n",
    "import numpy as np\n",
    "from sklearn.neighbors import KNeighborsClassifier\n",
    "from sklearn.preprocessing import StandardScaler, OneHotEncoder\n",
    "from sklearn.model_selection import train_test_split\n",
    "from sklearn.metrics import classification_report, confusion_matrix"
   ]
  },
  {
   "cell_type": "markdown",
   "id": "0802855f",
   "metadata": {},
   "source": [
    "## 1.C Invoke Classes"
   ]
  },
  {
   "cell_type": "code",
   "execution_count": null,
   "id": "57517472",
   "metadata": {},
   "outputs": [],
   "source": [
    "tools = Tools()"
   ]
  },
  {
   "cell_type": "markdown",
   "id": "94d6050d",
   "metadata": {},
   "source": [
    "## 1.D Load Configuration"
   ]
  },
  {
   "cell_type": "code",
   "execution_count": null,
   "id": "69c6b84e",
   "metadata": {},
   "outputs": [
    {
     "data": {
      "text/html": [
       "<pre style=\"white-space:pre;overflow-x:auto;line-height:normal;font-family:Menlo,'DejaVu Sans Mono',consolas,'Courier New',monospace\">&gt;&gt;&gt; <span style=\"font-weight: bold\">[</span><span style=\"color: #00ff00; text-decoration-color: #00ff00; font-weight: bold\">20:32:26</span><span style=\"font-weight: bold\">]</span> <span style=\"color: #008000; text-decoration-color: #008000; font-weight: bold\">SUCCESS!</span><span style=\"color: #c0c0c0; text-decoration-color: #c0c0c0; font-weight: bold\">: </span><span style=\"color: #808000; text-decoration-color: #808000; font-weight: bold\">Loaded configuration </span><span style=\"color: #800080; text-decoration-color: #800080; font-weight: bold\">NUMBER OF KEYS</span><span style=\"color: #808000; text-decoration-color: #808000; font-weight: bold\">: </span><span style=\"color: #008080; text-decoration-color: #008080; font-weight: bold\">1</span>\n",
       "</pre>\n"
      ],
      "text/plain": [
       ">>> \u001b[1m[\u001b[0m\u001b[1;92m20:32:26\u001b[0m\u001b[1m]\u001b[0m \u001b[1;32mSUCCESS!\u001b[0m\u001b[1;37m: \u001b[0m\u001b[1;33mLoaded configuration \u001b[0m\u001b[1;35mNUMBER OF KEYS\u001b[0m\u001b[1;33m: \u001b[0m\u001b[1;36m1\u001b[0m\n"
      ]
     },
     "metadata": {},
     "output_type": "display_data"
    }
   ],
   "source": [
    "config = tools.load_toml_file(\"config.toml\")\n",
    "tools.print_message('success', 'Loaded configuration', format_dict={'number of keys': len(config)})"
   ]
  },
  {
   "cell_type": "markdown",
   "id": "6e1a6159",
   "metadata": {},
   "source": [
    "## 1.E Load the dataset"
   ]
  },
  {
   "cell_type": "code",
   "execution_count": null,
   "id": "a5301ec7",
   "metadata": {},
   "outputs": [
    {
     "data": {
      "text/html": [
       "<div>\n",
       "<style scoped>\n",
       "    .dataframe tbody tr th:only-of-type {\n",
       "        vertical-align: middle;\n",
       "    }\n",
       "\n",
       "    .dataframe tbody tr th {\n",
       "        vertical-align: top;\n",
       "    }\n",
       "\n",
       "    .dataframe thead th {\n",
       "        text-align: right;\n",
       "    }\n",
       "</style>\n",
       "<table border=\"1\" class=\"dataframe\">\n",
       "  <thead>\n",
       "    <tr style=\"text-align: right;\">\n",
       "      <th></th>\n",
       "      <th>marital_status</th>\n",
       "      <th>application_mode</th>\n",
       "      <th>application_order</th>\n",
       "      <th>course</th>\n",
       "      <th>daytime_evening_attendance</th>\n",
       "      <th>previous_qualification</th>\n",
       "      <th>previous_qualification_grade</th>\n",
       "      <th>nationality</th>\n",
       "      <th>mothers_qualification</th>\n",
       "      <th>fathers_qualification</th>\n",
       "      <th>...</th>\n",
       "      <th>curricular_units_2nd_sem_credited</th>\n",
       "      <th>curricular_units_2nd_sem_enrolled</th>\n",
       "      <th>curricular_units_2nd_sem_evaluations</th>\n",
       "      <th>curricular_units_2nd_sem_approved</th>\n",
       "      <th>curricular_units_2nd_sem_grade</th>\n",
       "      <th>curricular_units_2nd_sem_without_evaluations</th>\n",
       "      <th>unemployment_rate</th>\n",
       "      <th>inflation_rate</th>\n",
       "      <th>gdp</th>\n",
       "      <th>target</th>\n",
       "    </tr>\n",
       "  </thead>\n",
       "  <tbody>\n",
       "    <tr>\n",
       "      <th>0</th>\n",
       "      <td>1</td>\n",
       "      <td>17</td>\n",
       "      <td>5</td>\n",
       "      <td>171</td>\n",
       "      <td>1</td>\n",
       "      <td>1</td>\n",
       "      <td>122.0</td>\n",
       "      <td>1</td>\n",
       "      <td>19</td>\n",
       "      <td>12</td>\n",
       "      <td>...</td>\n",
       "      <td>0</td>\n",
       "      <td>0</td>\n",
       "      <td>0</td>\n",
       "      <td>0</td>\n",
       "      <td>0.000000</td>\n",
       "      <td>0</td>\n",
       "      <td>10.8</td>\n",
       "      <td>1.4</td>\n",
       "      <td>1.74</td>\n",
       "      <td>Dropout</td>\n",
       "    </tr>\n",
       "    <tr>\n",
       "      <th>1</th>\n",
       "      <td>1</td>\n",
       "      <td>15</td>\n",
       "      <td>1</td>\n",
       "      <td>9254</td>\n",
       "      <td>1</td>\n",
       "      <td>1</td>\n",
       "      <td>160.0</td>\n",
       "      <td>1</td>\n",
       "      <td>1</td>\n",
       "      <td>3</td>\n",
       "      <td>...</td>\n",
       "      <td>0</td>\n",
       "      <td>6</td>\n",
       "      <td>6</td>\n",
       "      <td>6</td>\n",
       "      <td>13.666667</td>\n",
       "      <td>0</td>\n",
       "      <td>13.9</td>\n",
       "      <td>-0.3</td>\n",
       "      <td>0.79</td>\n",
       "      <td>Graduate</td>\n",
       "    </tr>\n",
       "    <tr>\n",
       "      <th>2</th>\n",
       "      <td>1</td>\n",
       "      <td>1</td>\n",
       "      <td>5</td>\n",
       "      <td>9070</td>\n",
       "      <td>1</td>\n",
       "      <td>1</td>\n",
       "      <td>122.0</td>\n",
       "      <td>1</td>\n",
       "      <td>37</td>\n",
       "      <td>37</td>\n",
       "      <td>...</td>\n",
       "      <td>0</td>\n",
       "      <td>6</td>\n",
       "      <td>0</td>\n",
       "      <td>0</td>\n",
       "      <td>0.000000</td>\n",
       "      <td>0</td>\n",
       "      <td>10.8</td>\n",
       "      <td>1.4</td>\n",
       "      <td>1.74</td>\n",
       "      <td>Dropout</td>\n",
       "    </tr>\n",
       "    <tr>\n",
       "      <th>3</th>\n",
       "      <td>1</td>\n",
       "      <td>17</td>\n",
       "      <td>2</td>\n",
       "      <td>9773</td>\n",
       "      <td>1</td>\n",
       "      <td>1</td>\n",
       "      <td>122.0</td>\n",
       "      <td>1</td>\n",
       "      <td>38</td>\n",
       "      <td>37</td>\n",
       "      <td>...</td>\n",
       "      <td>0</td>\n",
       "      <td>6</td>\n",
       "      <td>10</td>\n",
       "      <td>5</td>\n",
       "      <td>12.400000</td>\n",
       "      <td>0</td>\n",
       "      <td>9.4</td>\n",
       "      <td>-0.8</td>\n",
       "      <td>-3.12</td>\n",
       "      <td>Graduate</td>\n",
       "    </tr>\n",
       "    <tr>\n",
       "      <th>4</th>\n",
       "      <td>2</td>\n",
       "      <td>39</td>\n",
       "      <td>1</td>\n",
       "      <td>8014</td>\n",
       "      <td>0</td>\n",
       "      <td>1</td>\n",
       "      <td>100.0</td>\n",
       "      <td>1</td>\n",
       "      <td>37</td>\n",
       "      <td>38</td>\n",
       "      <td>...</td>\n",
       "      <td>0</td>\n",
       "      <td>6</td>\n",
       "      <td>6</td>\n",
       "      <td>6</td>\n",
       "      <td>13.000000</td>\n",
       "      <td>0</td>\n",
       "      <td>13.9</td>\n",
       "      <td>-0.3</td>\n",
       "      <td>0.79</td>\n",
       "      <td>Graduate</td>\n",
       "    </tr>\n",
       "  </tbody>\n",
       "</table>\n",
       "<p>5 rows × 37 columns</p>\n",
       "</div>"
      ],
      "text/plain": [
       "   marital_status  application_mode  application_order  course  \\\n",
       "0               1                17                  5     171   \n",
       "1               1                15                  1    9254   \n",
       "2               1                 1                  5    9070   \n",
       "3               1                17                  2    9773   \n",
       "4               2                39                  1    8014   \n",
       "\n",
       "   daytime_evening_attendance  previous_qualification  \\\n",
       "0                           1                       1   \n",
       "1                           1                       1   \n",
       "2                           1                       1   \n",
       "3                           1                       1   \n",
       "4                           0                       1   \n",
       "\n",
       "   previous_qualification_grade  nationality  mothers_qualification  \\\n",
       "0                         122.0            1                     19   \n",
       "1                         160.0            1                      1   \n",
       "2                         122.0            1                     37   \n",
       "3                         122.0            1                     38   \n",
       "4                         100.0            1                     37   \n",
       "\n",
       "   fathers_qualification  ...  curricular_units_2nd_sem_credited  \\\n",
       "0                     12  ...                                  0   \n",
       "1                      3  ...                                  0   \n",
       "2                     37  ...                                  0   \n",
       "3                     37  ...                                  0   \n",
       "4                     38  ...                                  0   \n",
       "\n",
       "   curricular_units_2nd_sem_enrolled  curricular_units_2nd_sem_evaluations  \\\n",
       "0                                  0                                     0   \n",
       "1                                  6                                     6   \n",
       "2                                  6                                     0   \n",
       "3                                  6                                    10   \n",
       "4                                  6                                     6   \n",
       "\n",
       "   curricular_units_2nd_sem_approved  curricular_units_2nd_sem_grade  \\\n",
       "0                                  0                        0.000000   \n",
       "1                                  6                       13.666667   \n",
       "2                                  0                        0.000000   \n",
       "3                                  5                       12.400000   \n",
       "4                                  6                       13.000000   \n",
       "\n",
       "   curricular_units_2nd_sem_without_evaluations  unemployment_rate  \\\n",
       "0                                             0               10.8   \n",
       "1                                             0               13.9   \n",
       "2                                             0               10.8   \n",
       "3                                             0                9.4   \n",
       "4                                             0               13.9   \n",
       "\n",
       "   inflation_rate   gdp    target  \n",
       "0             1.4  1.74   Dropout  \n",
       "1            -0.3  0.79  Graduate  \n",
       "2             1.4  1.74   Dropout  \n",
       "3            -0.8 -3.12  Graduate  \n",
       "4            -0.3  0.79  Graduate  \n",
       "\n",
       "[5 rows x 37 columns]"
      ]
     },
     "metadata": {},
     "output_type": "display_data"
    }
   ],
   "source": [
    "# Open dataset\n",
    "# Realinho, V., Martins, M.V., Machado, J. and Baptista, L.M.T., 2021. Predict Students' Dropout and Academic Success. UCI Machine Learning Repository. Available at: https://doi.org/10.24432/C5MC89 [Accessed 31 May 2025].\n",
    "df_dataset = tools.load_dataset(file_name='dataset_raw.csv')\n",
    "df_dataset.head()"
   ]
  },
  {
   "cell_type": "markdown",
   "id": "aba843dd",
   "metadata": {},
   "source": [
    "## 1.F Apply Target Binary Transformation"
   ]
  },
  {
   "cell_type": "code",
   "execution_count": null,
   "id": "9df09cdb",
   "metadata": {},
   "outputs": [
    {
     "data": {
      "text/plain": [
       "target_binary\n",
       "1    3003\n",
       "0    1421\n",
       "Name: count, dtype: int64"
      ]
     },
     "metadata": {},
     "output_type": "display_data"
    }
   ],
   "source": [
    "# Add a new target column with renamed values for one vs rest classification\n",
    "df_dataset['target_binary'] = df_dataset['target'].map({'Dropout': 0, 'Graduate': 1, 'Enrolled': 1})\n",
    "df_dataset['target_binary'].value_counts()"
   ]
  },
  {
   "cell_type": "markdown",
   "id": "9e260011",
   "metadata": {},
   "source": [
    "## 1.G Data Shape Check"
   ]
  },
  {
   "cell_type": "code",
   "execution_count": null,
   "id": "a25cbb86",
   "metadata": {},
   "outputs": [
    {
     "data": {
      "text/html": [
       "<pre style=\"white-space:pre;overflow-x:auto;line-height:normal;font-family:Menlo,'DejaVu Sans Mono',consolas,'Courier New',monospace\">&gt;&gt;&gt; <span style=\"font-weight: bold\">[</span><span style=\"color: #00ff00; text-decoration-color: #00ff00; font-weight: bold\">20:32:26</span><span style=\"font-weight: bold\">]</span> <span style=\"color: #008000; text-decoration-color: #008000; font-weight: bold\">SUCCESS!</span><span style=\"color: #c0c0c0; text-decoration-color: #c0c0c0; font-weight: bold\">: </span><span style=\"color: #808000; text-decoration-color: #808000; font-weight: bold\">Dataset loaded </span><span style=\"color: #800080; text-decoration-color: #800080; font-weight: bold\">ROWS</span><span style=\"color: #808000; text-decoration-color: #808000; font-weight: bold\">: </span><span style=\"color: #008080; text-decoration-color: #008080; font-weight: bold\">4424</span><span style=\"color: #808000; text-decoration-color: #808000; font-weight: bold\">, </span><span style=\"color: #800080; text-decoration-color: #800080; font-weight: bold\">COLUMNS</span><span style=\"color: #808000; text-decoration-color: #808000; font-weight: bold\">: </span><span style=\"color: #008080; text-decoration-color: #008080; font-weight: bold\">38</span>\n",
       "</pre>\n"
      ],
      "text/plain": [
       ">>> \u001b[1m[\u001b[0m\u001b[1;92m20:32:26\u001b[0m\u001b[1m]\u001b[0m \u001b[1;32mSUCCESS!\u001b[0m\u001b[1;37m: \u001b[0m\u001b[1;33mDataset loaded \u001b[0m\u001b[1;35mROWS\u001b[0m\u001b[1;33m: \u001b[0m\u001b[1;36m4424\u001b[0m\u001b[1;33m, \u001b[0m\u001b[1;35mCOLUMNS\u001b[0m\u001b[1;33m: \u001b[0m\u001b[1;36m38\u001b[0m\n"
      ]
     },
     "metadata": {},
     "output_type": "display_data"
    }
   ],
   "source": [
    "shape = df_dataset.shape\n",
    "tools.print_message('success', 'Dataset loaded', format_dict={'rows': shape[0], 'columns': shape[1]})"
   ]
  },
  {
   "cell_type": "markdown",
   "id": "031bf35e",
   "metadata": {},
   "source": [
    "# 2. Feature Selection"
   ]
  },
  {
   "cell_type": "markdown",
   "id": "a6d7e507",
   "metadata": {},
   "source": [
    "### 2.A Summary"
   ]
  },
  {
   "cell_type": "markdown",
   "id": "27365dea",
   "metadata": {},
   "source": [
    "### 2.B Features to Remove"
   ]
  },
  {
   "cell_type": "code",
   "execution_count": null,
   "id": "cdcf9fa5",
   "metadata": {},
   "outputs": [],
   "source": [
    "# Severe class imbalance makes these features uninformative\n",
    "uninformative_categorical = [\n",
    "    'nationality',                    # 97.5% Portuguese - no variation\n",
    "    'educational_special_needs',      # 98.9% no special needs - no variation\n",
    "    'international',                  # 97.5% domestic - no variation\n",
    "    'displaced',                      # Zero mutual information with target\n",
    "    'daytime_evening_attendance'      # Zero mutual information with target\n",
    "]\n",
    "\n",
    "# Very weak correlation with target variable makes these unhelpful\n",
    "weak_economic_features = [\n",
    "    'unemployment_rate',              # -0.03 correlation - essentially no relationship\n",
    "    'inflation_rate',                 # 0.02 correlation - essentially no relationship\n",
    "    'gdp'                            # 0.05 correlation - essentially no relationship\n",
    "]\n",
    "\n",
    "# Data leakage - using information that only exists after the outcome has occurred\n",
    "# (Data leakage = accidentally including future information that won't be available when making real predictions)\n",
    "# See summary 2.A for more information\n",
    "second_semester_features = [\n",
    "    'curricular_units_2nd_sem_credited',     # Zeros for first semester dropouts - this IS the outcome, not a predictor\n",
    "    'curricular_units_2nd_sem_enrolled',     # Zeros for first semester dropouts - this IS the outcome, not a predictor\n",
    "    'curricular_units_2nd_sem_evaluations',  # Zeros for first semester dropouts - this IS the outcome, not a predictor\n",
    "    'curricular_units_2nd_sem_approved',     # Zeros for first semester dropouts - this IS the outcome, not a predictor\n",
    "    'curricular_units_2nd_sem_grade',        # Zeros for first semester dropouts - this IS the outcome, not a predictor\n",
    "    'curricular_units_2nd_sem_without_evaluations'  # Zeros for first semester dropouts - this IS the outcome, not a predictor\n",
    "]\n",
    "\n",
    "# Delete features with high multicollinearity\n",
    "# These features have high Variance Inflation Factor (VIF) values, indicating multicollinearity\n",
    "first_sem_multicollinear_to_delete = [\n",
    "    'curricular_units_1st_sem_enrolled',     # Highest VIF (23.49)\n",
    "    'curricular_units_1st_sem_credited'      # High VIF (15.57)\n",
    "]\n",
    "\n",
    "drop_columns = uninformative_categorical + weak_economic_features + second_semester_features\n",
    "df_dataset.drop(columns=drop_columns, inplace=True)"
   ]
  }
 ],
 "metadata": {
  "language_info": {
   "name": "python"
  }
 },
 "nbformat": 4,
 "nbformat_minor": 5
}
