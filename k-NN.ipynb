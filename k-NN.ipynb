{
 "cells": [
  {
   "cell_type": "markdown",
   "id": "16007822",
   "metadata": {},
   "source": [
    "# 1. Setup"
   ]
  },
  {
   "cell_type": "markdown",
   "id": "c6756282",
   "metadata": {},
   "source": [
    "## 1.A Summary\n",
    "\n",
    "### <span style=\"color: #e74c3c;\">**k-Nearest Neighbours Implementation Summary**</span>\n",
    "\n",
    "This notebook implements **k-Nearest Neighbours (k-NN)** classification to predict student withdrawal risk using the preprocessed student dataset.\n",
    "\n",
    "### <span style=\"color: #2E86AB;\">**1. Algorithm Overview**</span>\n",
    "\n",
    "**k-Nearest Neighbours** is a **non-parametric, instance-based learning algorithm** that makes predictions by:\n",
    "- Finding the k closest data points to a new instance\n",
    "- Using majority voting amongst these neighbours to determine classification\n",
    "- Making no assumptions about the underlying data distribution\n",
    "\n",
    "**Key characteristics:**\n",
    "- **Lazy learning**: No explicit training phase - stores all data points\n",
    "- **Distance-based**: Uses similarity measures (typically Euclidean distance)\n",
    "- **Local decision boundaries**: Adapts to local patterns in the data\n",
    "\n",
    "### <span style=\"color: #2E86AB;\">**2. Binary Classification Setup**</span>\n",
    "\n",
    "**Target transformation**: Combined \"Graduate\" and \"Enrolled\" into \"Continuation\" (1), with \"Dropout\" as \"Withdrawn\" (0), creating a balanced 68:32 class distribution suitable for k-NN's majority voting mechanism.\n",
    "\n",
    "**Dataset**: 4,424 students with preprocessed features ready for distance-based classification.\n",
    "\n",
    "### <span style=\"color: #2E86AB;\">**3. Preprocessing Requirements**</span>\n",
    "\n",
    "**Essential for k-NN performance:**\n",
    "- **Feature scaling**: StandardScaler applied to prevent features with larger ranges from dominating distance calculations\n",
    "- **One-hot encoding**: Categorical features converted to binary dummy variables\n",
    "- **Feature selection**: Remove redundant and uninformative features identified in earlier analysis\n",
    "\n",
    "### <span style=\"color: #2E86AB;\">**4. Model Configuration**</span>\n",
    "\n",
    "**Hyperparameter tuning** focuses on:\n",
    "- **k value**: Number of neighbours to consider (typically odd numbers to avoid ties)\n",
    "- **Distance metric**: Euclidean distance for continuous features\n",
    "- **Weighting scheme**: Uniform vs distance-weighted voting\n",
    "\n",
    "### <span style=\"color: #e74c3c;\">**Expected Outcomes**</span>\n",
    "\n",
    "This implementation will evaluate k-NN's effectiveness for student dropout prediction, comparing performance against logistic regression whilst addressing the algorithm's sensitivity to feature scaling and dimensionality."
   ]
  },
  {
   "cell_type": "markdown",
   "id": "8a26bba8",
   "metadata": {},
   "source": [
    "## 1.B Libraries Import"
   ]
  },
  {
   "cell_type": "code",
   "execution_count": 14,
   "id": "3d4abd9e",
   "metadata": {},
   "outputs": [],
   "source": [
    "from tools import Tools\n",
    "import pandas as pd\n",
    "import numpy as np\n",
    "from sklearn.neighbors import KNeighborsClassifier\n",
    "from sklearn.preprocessing import StandardScaler, OneHotEncoder\n",
    "from sklearn.model_selection import train_test_split\n",
    "from sklearn.metrics import classification_report, confusion_matrix"
   ]
  },
  {
   "cell_type": "markdown",
   "id": "9c124627",
   "metadata": {},
   "source": [
    "## 1.C Invoke Classes"
   ]
  },
  {
   "cell_type": "code",
   "execution_count": 15,
   "id": "b37e52fb",
   "metadata": {},
   "outputs": [],
   "source": [
    "tools = Tools()"
   ]
  },
  {
   "cell_type": "markdown",
   "id": "a7e36b0f",
   "metadata": {},
   "source": [
    "## 1.D Load Configuration"
   ]
  },
  {
   "cell_type": "code",
   "execution_count": 16,
   "id": "c05e0638",
   "metadata": {},
   "outputs": [
    {
     "data": {
      "text/html": [
       "<pre style=\"white-space:pre;overflow-x:auto;line-height:normal;font-family:Menlo,'DejaVu Sans Mono',consolas,'Courier New',monospace\">&gt;&gt;&gt; <span style=\"font-weight: bold\">[</span><span style=\"color: #00ff00; text-decoration-color: #00ff00; font-weight: bold\">19:58:05</span><span style=\"font-weight: bold\">]</span> <span style=\"color: #008000; text-decoration-color: #008000; font-weight: bold\">SUCCESS!</span><span style=\"color: #c0c0c0; text-decoration-color: #c0c0c0; font-weight: bold\">: </span><span style=\"color: #808000; text-decoration-color: #808000; font-weight: bold\">Loaded configuration </span><span style=\"color: #800080; text-decoration-color: #800080; font-weight: bold\">NUMBER OF KEYS</span><span style=\"color: #808000; text-decoration-color: #808000; font-weight: bold\">: </span><span style=\"color: #008080; text-decoration-color: #008080; font-weight: bold\">1</span>\n",
       "</pre>\n"
      ],
      "text/plain": [
       ">>> \u001b[1m[\u001b[0m\u001b[1;92m19:58:05\u001b[0m\u001b[1m]\u001b[0m \u001b[1;32mSUCCESS!\u001b[0m\u001b[1;37m: \u001b[0m\u001b[1;33mLoaded configuration \u001b[0m\u001b[1;35mNUMBER OF KEYS\u001b[0m\u001b[1;33m: \u001b[0m\u001b[1;36m1\u001b[0m\n"
      ]
     },
     "metadata": {},
     "output_type": "display_data"
    }
   ],
   "source": [
    "config = tools.load_toml_file(\"config.toml\")\n",
    "tools.print_message('success', 'Loaded configuration', format_dict={'number of keys': len(config)})"
   ]
  },
  {
   "cell_type": "markdown",
   "id": "4ab25a93",
   "metadata": {},
   "source": [
    "## 1.E Load the dataset"
   ]
  },
  {
   "cell_type": "code",
   "execution_count": 17,
   "id": "aff6f2b3",
   "metadata": {},
   "outputs": [
    {
     "data": {
      "text/html": [
       "<div>\n",
       "<style scoped>\n",
       "    .dataframe tbody tr th:only-of-type {\n",
       "        vertical-align: middle;\n",
       "    }\n",
       "\n",
       "    .dataframe tbody tr th {\n",
       "        vertical-align: top;\n",
       "    }\n",
       "\n",
       "    .dataframe thead th {\n",
       "        text-align: right;\n",
       "    }\n",
       "</style>\n",
       "<table border=\"1\" class=\"dataframe\">\n",
       "  <thead>\n",
       "    <tr style=\"text-align: right;\">\n",
       "      <th></th>\n",
       "      <th>marital_status</th>\n",
       "      <th>application_mode</th>\n",
       "      <th>application_order</th>\n",
       "      <th>course</th>\n",
       "      <th>daytime_evening_attendance</th>\n",
       "      <th>previous_qualification</th>\n",
       "      <th>previous_qualification_grade</th>\n",
       "      <th>nationality</th>\n",
       "      <th>mothers_qualification</th>\n",
       "      <th>fathers_qualification</th>\n",
       "      <th>...</th>\n",
       "      <th>curricular_units_2nd_sem_credited</th>\n",
       "      <th>curricular_units_2nd_sem_enrolled</th>\n",
       "      <th>curricular_units_2nd_sem_evaluations</th>\n",
       "      <th>curricular_units_2nd_sem_approved</th>\n",
       "      <th>curricular_units_2nd_sem_grade</th>\n",
       "      <th>curricular_units_2nd_sem_without_evaluations</th>\n",
       "      <th>unemployment_rate</th>\n",
       "      <th>inflation_rate</th>\n",
       "      <th>gdp</th>\n",
       "      <th>target</th>\n",
       "    </tr>\n",
       "  </thead>\n",
       "  <tbody>\n",
       "    <tr>\n",
       "      <th>0</th>\n",
       "      <td>1</td>\n",
       "      <td>17</td>\n",
       "      <td>5</td>\n",
       "      <td>171</td>\n",
       "      <td>1</td>\n",
       "      <td>1</td>\n",
       "      <td>122.0</td>\n",
       "      <td>1</td>\n",
       "      <td>19</td>\n",
       "      <td>12</td>\n",
       "      <td>...</td>\n",
       "      <td>0</td>\n",
       "      <td>0</td>\n",
       "      <td>0</td>\n",
       "      <td>0</td>\n",
       "      <td>0.000000</td>\n",
       "      <td>0</td>\n",
       "      <td>10.8</td>\n",
       "      <td>1.4</td>\n",
       "      <td>1.74</td>\n",
       "      <td>Dropout</td>\n",
       "    </tr>\n",
       "    <tr>\n",
       "      <th>1</th>\n",
       "      <td>1</td>\n",
       "      <td>15</td>\n",
       "      <td>1</td>\n",
       "      <td>9254</td>\n",
       "      <td>1</td>\n",
       "      <td>1</td>\n",
       "      <td>160.0</td>\n",
       "      <td>1</td>\n",
       "      <td>1</td>\n",
       "      <td>3</td>\n",
       "      <td>...</td>\n",
       "      <td>0</td>\n",
       "      <td>6</td>\n",
       "      <td>6</td>\n",
       "      <td>6</td>\n",
       "      <td>13.666667</td>\n",
       "      <td>0</td>\n",
       "      <td>13.9</td>\n",
       "      <td>-0.3</td>\n",
       "      <td>0.79</td>\n",
       "      <td>Graduate</td>\n",
       "    </tr>\n",
       "    <tr>\n",
       "      <th>2</th>\n",
       "      <td>1</td>\n",
       "      <td>1</td>\n",
       "      <td>5</td>\n",
       "      <td>9070</td>\n",
       "      <td>1</td>\n",
       "      <td>1</td>\n",
       "      <td>122.0</td>\n",
       "      <td>1</td>\n",
       "      <td>37</td>\n",
       "      <td>37</td>\n",
       "      <td>...</td>\n",
       "      <td>0</td>\n",
       "      <td>6</td>\n",
       "      <td>0</td>\n",
       "      <td>0</td>\n",
       "      <td>0.000000</td>\n",
       "      <td>0</td>\n",
       "      <td>10.8</td>\n",
       "      <td>1.4</td>\n",
       "      <td>1.74</td>\n",
       "      <td>Dropout</td>\n",
       "    </tr>\n",
       "    <tr>\n",
       "      <th>3</th>\n",
       "      <td>1</td>\n",
       "      <td>17</td>\n",
       "      <td>2</td>\n",
       "      <td>9773</td>\n",
       "      <td>1</td>\n",
       "      <td>1</td>\n",
       "      <td>122.0</td>\n",
       "      <td>1</td>\n",
       "      <td>38</td>\n",
       "      <td>37</td>\n",
       "      <td>...</td>\n",
       "      <td>0</td>\n",
       "      <td>6</td>\n",
       "      <td>10</td>\n",
       "      <td>5</td>\n",
       "      <td>12.400000</td>\n",
       "      <td>0</td>\n",
       "      <td>9.4</td>\n",
       "      <td>-0.8</td>\n",
       "      <td>-3.12</td>\n",
       "      <td>Graduate</td>\n",
       "    </tr>\n",
       "    <tr>\n",
       "      <th>4</th>\n",
       "      <td>2</td>\n",
       "      <td>39</td>\n",
       "      <td>1</td>\n",
       "      <td>8014</td>\n",
       "      <td>0</td>\n",
       "      <td>1</td>\n",
       "      <td>100.0</td>\n",
       "      <td>1</td>\n",
       "      <td>37</td>\n",
       "      <td>38</td>\n",
       "      <td>...</td>\n",
       "      <td>0</td>\n",
       "      <td>6</td>\n",
       "      <td>6</td>\n",
       "      <td>6</td>\n",
       "      <td>13.000000</td>\n",
       "      <td>0</td>\n",
       "      <td>13.9</td>\n",
       "      <td>-0.3</td>\n",
       "      <td>0.79</td>\n",
       "      <td>Graduate</td>\n",
       "    </tr>\n",
       "  </tbody>\n",
       "</table>\n",
       "<p>5 rows × 37 columns</p>\n",
       "</div>"
      ],
      "text/plain": [
       "   marital_status  application_mode  application_order  course  \\\n",
       "0               1                17                  5     171   \n",
       "1               1                15                  1    9254   \n",
       "2               1                 1                  5    9070   \n",
       "3               1                17                  2    9773   \n",
       "4               2                39                  1    8014   \n",
       "\n",
       "   daytime_evening_attendance  previous_qualification  \\\n",
       "0                           1                       1   \n",
       "1                           1                       1   \n",
       "2                           1                       1   \n",
       "3                           1                       1   \n",
       "4                           0                       1   \n",
       "\n",
       "   previous_qualification_grade  nationality  mothers_qualification  \\\n",
       "0                         122.0            1                     19   \n",
       "1                         160.0            1                      1   \n",
       "2                         122.0            1                     37   \n",
       "3                         122.0            1                     38   \n",
       "4                         100.0            1                     37   \n",
       "\n",
       "   fathers_qualification  ...  curricular_units_2nd_sem_credited  \\\n",
       "0                     12  ...                                  0   \n",
       "1                      3  ...                                  0   \n",
       "2                     37  ...                                  0   \n",
       "3                     37  ...                                  0   \n",
       "4                     38  ...                                  0   \n",
       "\n",
       "   curricular_units_2nd_sem_enrolled  curricular_units_2nd_sem_evaluations  \\\n",
       "0                                  0                                     0   \n",
       "1                                  6                                     6   \n",
       "2                                  6                                     0   \n",
       "3                                  6                                    10   \n",
       "4                                  6                                     6   \n",
       "\n",
       "   curricular_units_2nd_sem_approved  curricular_units_2nd_sem_grade  \\\n",
       "0                                  0                        0.000000   \n",
       "1                                  6                       13.666667   \n",
       "2                                  0                        0.000000   \n",
       "3                                  5                       12.400000   \n",
       "4                                  6                       13.000000   \n",
       "\n",
       "   curricular_units_2nd_sem_without_evaluations  unemployment_rate  \\\n",
       "0                                             0               10.8   \n",
       "1                                             0               13.9   \n",
       "2                                             0               10.8   \n",
       "3                                             0                9.4   \n",
       "4                                             0               13.9   \n",
       "\n",
       "   inflation_rate   gdp    target  \n",
       "0             1.4  1.74   Dropout  \n",
       "1            -0.3  0.79  Graduate  \n",
       "2             1.4  1.74   Dropout  \n",
       "3            -0.8 -3.12  Graduate  \n",
       "4            -0.3  0.79  Graduate  \n",
       "\n",
       "[5 rows x 37 columns]"
      ]
     },
     "execution_count": 17,
     "metadata": {},
     "output_type": "execute_result"
    }
   ],
   "source": [
    "# Open dataset\n",
    "# Realinho, V., Martins, M.V., Machado, J. and Baptista, L.M.T., 2021. Predict Students' Dropout and Academic Success. UCI Machine Learning Repository. Available at: https://doi.org/10.24432/C5MC89 [Accessed 31 May 2025].\n",
    "df_dataset = tools.load_dataset(file_name='dataset_raw.csv')\n",
    "df_dataset.head()"
   ]
  },
  {
   "cell_type": "markdown",
   "id": "51e413ec",
   "metadata": {},
   "source": [
    "## 1.F Apply Target Binary Transformation"
   ]
  },
  {
   "cell_type": "code",
   "execution_count": 18,
   "id": "432e62ba",
   "metadata": {},
   "outputs": [
    {
     "data": {
      "text/plain": [
       "target_binary\n",
       "1    3003\n",
       "0    1421\n",
       "Name: count, dtype: int64"
      ]
     },
     "execution_count": 18,
     "metadata": {},
     "output_type": "execute_result"
    }
   ],
   "source": [
    "# Add a new target column with renamed values for one vs rest classification\n",
    "df_dataset['target_binary'] = df_dataset['target'].map({'Dropout': 0, 'Graduate': 1, 'Enrolled': 1})\n",
    "df_dataset['target_binary'].value_counts()"
   ]
  },
  {
   "cell_type": "markdown",
   "id": "97b9292f",
   "metadata": {},
   "source": [
    "## 1.G Data Shape Check"
   ]
  },
  {
   "cell_type": "code",
   "execution_count": 19,
   "id": "e3c0cedd",
   "metadata": {},
   "outputs": [
    {
     "data": {
      "text/html": [
       "<pre style=\"white-space:pre;overflow-x:auto;line-height:normal;font-family:Menlo,'DejaVu Sans Mono',consolas,'Courier New',monospace\">&gt;&gt;&gt; <span style=\"font-weight: bold\">[</span><span style=\"color: #00ff00; text-decoration-color: #00ff00; font-weight: bold\">19:58:05</span><span style=\"font-weight: bold\">]</span> <span style=\"color: #008000; text-decoration-color: #008000; font-weight: bold\">SUCCESS!</span><span style=\"color: #c0c0c0; text-decoration-color: #c0c0c0; font-weight: bold\">: </span><span style=\"color: #808000; text-decoration-color: #808000; font-weight: bold\">Dataset loaded </span><span style=\"color: #800080; text-decoration-color: #800080; font-weight: bold\">ROWS</span><span style=\"color: #808000; text-decoration-color: #808000; font-weight: bold\">: </span><span style=\"color: #008080; text-decoration-color: #008080; font-weight: bold\">4424</span><span style=\"color: #808000; text-decoration-color: #808000; font-weight: bold\">, </span><span style=\"color: #800080; text-decoration-color: #800080; font-weight: bold\">COLUMNS</span><span style=\"color: #808000; text-decoration-color: #808000; font-weight: bold\">: </span><span style=\"color: #008080; text-decoration-color: #008080; font-weight: bold\">38</span>\n",
       "</pre>\n"
      ],
      "text/plain": [
       ">>> \u001b[1m[\u001b[0m\u001b[1;92m19:58:05\u001b[0m\u001b[1m]\u001b[0m \u001b[1;32mSUCCESS!\u001b[0m\u001b[1;37m: \u001b[0m\u001b[1;33mDataset loaded \u001b[0m\u001b[1;35mROWS\u001b[0m\u001b[1;33m: \u001b[0m\u001b[1;36m4424\u001b[0m\u001b[1;33m, \u001b[0m\u001b[1;35mCOLUMNS\u001b[0m\u001b[1;33m: \u001b[0m\u001b[1;36m38\u001b[0m\n"
      ]
     },
     "metadata": {},
     "output_type": "display_data"
    }
   ],
   "source": [
    "shape = df_dataset.shape\n",
    "tools.print_message('success', 'Dataset loaded', format_dict={'rows': shape[0], 'columns': shape[1]})"
   ]
  },
  {
   "cell_type": "markdown",
   "id": "422c21b4",
   "metadata": {},
   "source": [
    "# 2. Feature Selection"
   ]
  },
  {
   "cell_type": "markdown",
   "id": "7808daf9",
   "metadata": {},
   "source": [
    "## 2.A Summary\n",
    "\n",
    "### <span style=\"color: #e74c3c;\">**Feature Selection for k-Nearest Neighbours**</span>\n",
    "\n",
    "This section details the feature selection process optimised specifically for k-NN algorithm requirements, reducing dimensionality whilst preserving predictive power.\n",
    "\n",
    "### <span style=\"color: #2E86AB;\">**1. Statistical Significance Measures**</span>\n",
    "\n",
    "**Mutual Information (MI)**: **Mutual Information** measures how much information one variable provides about another. For categorical features and binary targets, MI quantifies the reduction in uncertainty about withdrawal risk when we know a feature's value. Values range from 0 (no information) to higher positive values (more informative). MI=0.085 means the feature provides substantial predictive information.\n",
    "\n",
    "**Chi-Square (χ²) Test**: **Chi-square tests** measure whether there's a statistically significant association between a categorical feature and the target variable. Higher χ² values indicate stronger relationships. A p-value <0.05 confirms the association isn't due to random chance. χ²=811.93 indicates an extremely strong relationship.\n",
    "\n",
    "**Why These Matter for k-NN**: Features with high MI and χ² scores create more meaningful clusters in feature space, leading to better neighbour identification and more accurate predictions.\n",
    "\n",
    "### <span style=\"color: #2E86AB;\">**2. Categorical Features Strategy**</span>\n",
    "\n",
    "**✅ Keep High-Value Features (7 features):**\n",
    "- `tuition_fees_up_to_date`                 - MI=0.085, χ²=811.93 (strongest predictor)\n",
    "- `scholarship_holder`                      - MI=0.047, χ²=265.10\n",
    "- `course`                                  - MI=0.033, χ²=298.27\n",
    "- `application_mode`                        - MI=0.029, χ²=399.12\n",
    "- `gender`, `debtor`, `marital_status`      - moderate predictors\n",
    "\n",
    "**❌ Remove Uninformative Features:**\n",
    "- **Severely imbalanced**: `nationality` (97.5% Portuguese), `educational_special_needs` (98.9% no needs)\n",
    "- **Zero information**: `daytime_evening_attendance`, `displaced`, `international` (MI≈0.00)\n",
    "\n",
    "**⚠️ Handle High Cardinality (4 features):**\n",
    "- `mothers_qualification` (35 categories), `fathers_qualification` (44 categories)\n",
    "- `mothers_occupation` (32 categories), `fathers_occupation` (46 categories)\n",
    "- **Strategy**: Group rare categories (<2% frequency) into \"Other\" to prevent dimensionality explosion\n",
    "\n",
    "### <span style=\"color: #2E86AB;\">**3. Continuous Features Strategy**</span>\n",
    "\n",
    "**✅ Keep Strong Predictors (7 features):**\n",
    "- **Academic performance**: `curricular_units_2nd_sem_grade` (correlation=0.57), `curricular_units_2nd_sem_approved` (correlation=0.57)\n",
    "- **Demographic**: `age_at_enrollment` (correlation=-0.25)\n",
    "- **Academic background**: `previous_qualification_grade`, `admission_grade`\n",
    "- **2nd semester metrics**: enrolled units, evaluations\n",
    "\n",
    "**❌ Remove Multicollinear Features:**\n",
    "- **1st semester metrics**: VIF >15, highly correlated with 2nd semester (r=0.84-0.94)\n",
    "- **Economic indicators**: `unemployment_rate`, `inflation_rate`, `gdp` (correlation <0.05)\n",
    "\n",
    "### <span style=\"color: #2E86AB;\">**4. k-NN Specific Rationale**</span>\n",
    "\n",
    "**Curse of Dimensionality**: **Curse of dimensionality** occurs when high-dimensional spaces become sparse, making distance measurements less meaningful. Reducing from 36 to ~25 features (after encoding) improves k-NN performance.\n",
    "\n",
    "**Distance Calculation**: k-NN relies on measuring similarity between data points. **Multicollinear features** would double-count similar information, whilst **uninformative features** add noise to distance calculations.\n",
    "\n",
    "**Feature Scaling Preparation**: Remaining features have diverse scales (grades 0-200, units 0-26, age 17-70) requiring careful scaling for meaningful distance computation.\n",
    "\n",
    "### <span style=\"color: #e74c3c;\">**Final Feature Portfolio**</span>\n",
    "\n",
    "**Before Selection**: 36 features (18 categorical + 18 continuous)\n",
    "**After Selection**: 15 features (7 categorical + 4 grouped high-cardinality + 7 continuous)\n",
    "**After Encoding**: ~25 features (one-hot encoding expands categoricals)\n",
    "\n",
    "**Outcome**: Streamlined feature set optimised for distance-based similarity matching whilst preserving strongest predictive signals for student withdrawal detection."
   ]
  },
  {
   "cell_type": "code",
   "execution_count": 20,
   "id": "de1870d3",
   "metadata": {},
   "outputs": [],
   "source": [
    "# Function to check if required features are present in the dataset\n",
    "def check_features_are_present(df, features):\n",
    "    \"\"\"\n",
    "    Returns a list of features from `features` that are not present in the dataframe `df`.\n",
    "    \"\"\"\n",
    "    not_present = [feature for feature in features if feature not in df.columns]\n",
    "    if not_present:\n",
    "        tools.print_message('error', 'Missing features in dataset', format_dict={'missing features': not_present})\n",
    "        raise ValueError('Missing features')\n",
    "    else:\n",
    "        tools.print_message('success', 'All features are present in the dataset')"
   ]
  },
  {
   "cell_type": "markdown",
   "id": "fdbee2c0",
   "metadata": {},
   "source": [
    "## 2.A Categorical Features - Removal (Uninformative)"
   ]
  },
  {
   "cell_type": "code",
   "execution_count": 21,
   "id": "a20acea3",
   "metadata": {},
   "outputs": [
    {
     "data": {
      "text/html": [
       "<pre style=\"white-space:pre;overflow-x:auto;line-height:normal;font-family:Menlo,'DejaVu Sans Mono',consolas,'Courier New',monospace\">&gt;&gt;&gt; <span style=\"font-weight: bold\">[</span><span style=\"color: #00ff00; text-decoration-color: #00ff00; font-weight: bold\">19:58:05</span><span style=\"font-weight: bold\">]</span> <span style=\"color: #008000; text-decoration-color: #008000; font-weight: bold\">SUCCESS!</span><span style=\"color: #c0c0c0; text-decoration-color: #c0c0c0; font-weight: bold\">: </span><span style=\"color: #808000; text-decoration-color: #808000; font-weight: bold\">All features are present in the dataset</span>\n",
       "</pre>\n"
      ],
      "text/plain": [
       ">>> \u001b[1m[\u001b[0m\u001b[1;92m19:58:05\u001b[0m\u001b[1m]\u001b[0m \u001b[1;32mSUCCESS!\u001b[0m\u001b[1;37m: \u001b[0m\u001b[1;33mAll features are present in the dataset\u001b[0m\n"
      ]
     },
     "metadata": {},
     "output_type": "display_data"
    },
    {
     "data": {
      "text/html": [
       "<pre style=\"white-space:pre;overflow-x:auto;line-height:normal;font-family:Menlo,'DejaVu Sans Mono',consolas,'Courier New',monospace\">&gt;&gt;&gt; <span style=\"font-weight: bold\">[</span><span style=\"color: #00ff00; text-decoration-color: #00ff00; font-weight: bold\">19:58:05</span><span style=\"font-weight: bold\">]</span> <span style=\"color: #008000; text-decoration-color: #008000; font-weight: bold\">SUCCESS!</span><span style=\"color: #c0c0c0; text-decoration-color: #c0c0c0; font-weight: bold\">: </span><span style=\"color: #808000; text-decoration-color: #808000; font-weight: bold\">Removed categorical features </span><span style=\"color: #800080; text-decoration-color: #800080; font-weight: bold\">REMOVED FEATURES</span><span style=\"color: #808000; text-decoration-color: #808000; font-weight: bold\">: </span><span style=\"color: #008080; text-decoration-color: #008080; font-weight: bold\">[</span><span style=\"color: #008080; text-decoration-color: #008080; font-weight: bold\">'target'</span><span style=\"color: #008080; text-decoration-color: #008080; font-weight: bold\">, </span><span style=\"color: #008080; text-decoration-color: #008080; font-weight: bold\">'nationality'</span><span style=\"color: #008080; text-decoration-color: #008080; font-weight: bold\">, </span>\n",
       "<span style=\"color: #008080; text-decoration-color: #008080; font-weight: bold\">'educational_special_needs'</span><span style=\"color: #008080; text-decoration-color: #008080; font-weight: bold\">, </span><span style=\"color: #008080; text-decoration-color: #008080; font-weight: bold\">'international'</span><span style=\"color: #008080; text-decoration-color: #008080; font-weight: bold\">, </span><span style=\"color: #008080; text-decoration-color: #008080; font-weight: bold\">'daytime_evening_attendance'</span><span style=\"color: #008080; text-decoration-color: #008080; font-weight: bold\">, </span><span style=\"color: #008080; text-decoration-color: #008080; font-weight: bold\">'displaced'</span><span style=\"color: #008080; text-decoration-color: #008080; font-weight: bold\">]</span>\n",
       "</pre>\n"
      ],
      "text/plain": [
       ">>> \u001b[1m[\u001b[0m\u001b[1;92m19:58:05\u001b[0m\u001b[1m]\u001b[0m \u001b[1;32mSUCCESS!\u001b[0m\u001b[1;37m: \u001b[0m\u001b[1;33mRemoved categorical features \u001b[0m\u001b[1;35mREMOVED FEATURES\u001b[0m\u001b[1;33m: \u001b[0m\u001b[1;36m[\u001b[0m\u001b[1;36m'target'\u001b[0m\u001b[1;36m, \u001b[0m\u001b[1;36m'nationality'\u001b[0m\u001b[1;36m, \u001b[0m\n",
       "\u001b[1;36m'educational_special_needs'\u001b[0m\u001b[1;36m, \u001b[0m\u001b[1;36m'international'\u001b[0m\u001b[1;36m, \u001b[0m\u001b[1;36m'daytime_evening_attendance'\u001b[0m\u001b[1;36m, \u001b[0m\u001b[1;36m'displaced'\u001b[0m\u001b[1;36m]\u001b[0m\n"
      ]
     },
     "metadata": {},
     "output_type": "display_data"
    }
   ],
   "source": [
    "# List of features to remove based on the EDA\n",
    "categorical_features_remove = ['target', 'nationality', 'educational_special_needs', 'international', 'daytime_evening_attendance', 'displaced']\n",
    "\n",
    "# Check that features exist in the dataset\n",
    "check_features_are_present(df_dataset, categorical_features_remove)\n",
    "    \n",
    "# Remove these features from the dataset\n",
    "df_dataset.drop(columns=categorical_features_remove, inplace=True)\n",
    "tools.print_message('success', 'Removed categorical features', format_dict={'removed features': categorical_features_remove})\n"
   ]
  },
  {
   "cell_type": "markdown",
   "id": "e4a915ac",
   "metadata": {},
   "source": [
    "## 2.B Categorical Features - List High Predictive Value"
   ]
  },
  {
   "cell_type": "code",
   "execution_count": 22,
   "id": "0ec8551e",
   "metadata": {},
   "outputs": [
    {
     "data": {
      "text/html": [
       "<pre style=\"white-space:pre;overflow-x:auto;line-height:normal;font-family:Menlo,'DejaVu Sans Mono',consolas,'Courier New',monospace\">&gt;&gt;&gt; <span style=\"font-weight: bold\">[</span><span style=\"color: #00ff00; text-decoration-color: #00ff00; font-weight: bold\">19:58:05</span><span style=\"font-weight: bold\">]</span> <span style=\"color: #008000; text-decoration-color: #008000; font-weight: bold\">SUCCESS!</span><span style=\"color: #c0c0c0; text-decoration-color: #c0c0c0; font-weight: bold\">: </span><span style=\"color: #808000; text-decoration-color: #808000; font-weight: bold\">All features are present in the dataset</span>\n",
       "</pre>\n"
      ],
      "text/plain": [
       ">>> \u001b[1m[\u001b[0m\u001b[1;92m19:58:05\u001b[0m\u001b[1m]\u001b[0m \u001b[1;32mSUCCESS!\u001b[0m\u001b[1;37m: \u001b[0m\u001b[1;33mAll features are present in the dataset\u001b[0m\n"
      ]
     },
     "metadata": {},
     "output_type": "display_data"
    }
   ],
   "source": [
    "categorical_features_keep = [\n",
    "    'tuition_fees_up_to_date',  # MI=0.085, χ²=811.93\n",
    "    'scholarship_holder',       # MI=0.047, χ²=265.10\n",
    "    'course',                   # MI=0.033, χ²=298.27\n",
    "    'application_mode',         # MI=0.029, χ²=399.12\n",
    "    'gender',\n",
    "    'debtor',\n",
    "    'marital_status'\n",
    "]\n",
    "\n",
    "# Check that features exist in the dataset\n",
    "check_features_are_present(df_dataset, categorical_features_keep)"
   ]
  },
  {
   "cell_type": "markdown",
   "id": "b6dc1259",
   "metadata": {},
   "source": [
    "## 2.C Categorical Features - High Cardinality"
   ]
  },
  {
   "cell_type": "code",
   "execution_count": 23,
   "id": "ca488978",
   "metadata": {},
   "outputs": [
    {
     "data": {
      "text/html": [
       "<pre style=\"white-space:pre;overflow-x:auto;line-height:normal;font-family:Menlo,'DejaVu Sans Mono',consolas,'Courier New',monospace\">&gt;&gt;&gt; <span style=\"font-weight: bold\">[</span><span style=\"color: #00ff00; text-decoration-color: #00ff00; font-weight: bold\">19:58:05</span><span style=\"font-weight: bold\">]</span> <span style=\"color: #008000; text-decoration-color: #008000; font-weight: bold\">SUCCESS!</span><span style=\"color: #c0c0c0; text-decoration-color: #c0c0c0; font-weight: bold\">: </span><span style=\"color: #808000; text-decoration-color: #808000; font-weight: bold\">All features are present in the dataset</span>\n",
       "</pre>\n"
      ],
      "text/plain": [
       ">>> \u001b[1m[\u001b[0m\u001b[1;92m19:58:05\u001b[0m\u001b[1m]\u001b[0m \u001b[1;32mSUCCESS!\u001b[0m\u001b[1;37m: \u001b[0m\u001b[1;33mAll features are present in the dataset\u001b[0m\n"
      ]
     },
     "metadata": {},
     "output_type": "display_data"
    }
   ],
   "source": [
    "categorical_features_group_rare = [\n",
    "    'mothers_qualification',\n",
    "    'fathers_qualification',\n",
    "    'mothers_occupation',\n",
    "    'fathers_occupation'\n",
    "]\n",
    "\n",
    "# Check that features exist in the dataset\n",
    "check_features_are_present(df_dataset, categorical_features_group_rare)"
   ]
  },
  {
   "cell_type": "code",
   "execution_count": 24,
   "id": "60a634ff",
   "metadata": {},
   "outputs": [
    {
     "data": {
      "text/plain": [
       "parental_higher_education\n",
       "0    3616\n",
       "1     808\n",
       "Name: count, dtype: int64"
      ]
     },
     "execution_count": 24,
     "metadata": {},
     "output_type": "execute_result"
    }
   ],
   "source": [
    "# To reduce the number of categories in the parental qualification and occupation features, we will group them into broader categories.\n",
    "def create_parental_higher_ed(df):\n",
    "    \"\"\"\n",
    "    Creates binary indicator for parental higher education.\n",
    "    Returns 1 if at least one parent has higher education, 0 otherwise.\n",
    "    \"\"\"\n",
    "    higher_ed_codes = [2, 3, 4, 5, 6, 39, 40, 41, 42, 43, 44]\n",
    "    \n",
    "    mother_higher_ed = df['mothers_qualification'].isin(higher_ed_codes)\n",
    "    father_higher_ed = df['fathers_qualification'].isin(higher_ed_codes)\n",
    "    \n",
    "    # At least one parent has higher education\n",
    "    df['parental_higher_education'] = (mother_higher_ed | father_higher_ed).astype(int)\n",
    "    df = df.drop(columns=['mothers_qualification', 'fathers_qualification'])\n",
    "    \n",
    "    return df\n",
    "\n",
    "# Usage:\n",
    "df_dataset = create_parental_higher_ed(df_dataset)\n",
    "df_dataset.parental_higher_education.value_counts()"
   ]
  },
  {
   "cell_type": "code",
   "execution_count": 25,
   "id": "93773957",
   "metadata": {},
   "outputs": [
    {
     "data": {
      "text/plain": [
       "parental_professional_occupation\n",
       "0    3270\n",
       "1    1154\n",
       "Name: count, dtype: int64"
      ]
     },
     "execution_count": 25,
     "metadata": {},
     "output_type": "execute_result"
    }
   ],
   "source": [
    "def create_parental_professional_occupation(df):\n",
    "    \"\"\"\n",
    "    Creates binary indicator for parental professional occupation.\n",
    "    Returns 1 if at least one parent has professional/managerial role, 0 otherwise.\n",
    "    \"\"\"\n",
    "    professional_codes = [1, 2, 3, 101, 102, 112, 114, 121, 122, 123, 124, \n",
    "                          131, 132, 134, 135]\n",
    "    \n",
    "    mother_professional = df['mothers_occupation'].isin(professional_codes)\n",
    "    father_professional = df['fathers_occupation'].isin(professional_codes)\n",
    "    \n",
    "    # At least one parent has professional occupation\n",
    "    df['parental_professional_occupation'] = (mother_professional | father_professional).astype(int)\n",
    "    df = df.drop(columns=['mothers_occupation', 'fathers_occupation'])\n",
    "    \n",
    "    return df\n",
    "\n",
    "# Usage:\n",
    "df_dataset = create_parental_professional_occupation(df_dataset)\n",
    "df_dataset.parental_professional_occupation.value_counts()"
   ]
  },
  {
   "cell_type": "markdown",
   "id": "3e7fdd21",
   "metadata": {},
   "source": [
    "## 2.D Continuous Features - Remove (VIF > 15) & Weak Correlations"
   ]
  },
  {
   "cell_type": "code",
   "execution_count": 26,
   "id": "dda6c984",
   "metadata": {},
   "outputs": [
    {
     "data": {
      "text/html": [
       "<pre style=\"white-space:pre;overflow-x:auto;line-height:normal;font-family:Menlo,'DejaVu Sans Mono',consolas,'Courier New',monospace\">&gt;&gt;&gt; <span style=\"font-weight: bold\">[</span><span style=\"color: #00ff00; text-decoration-color: #00ff00; font-weight: bold\">19:58:05</span><span style=\"font-weight: bold\">]</span> <span style=\"color: #008000; text-decoration-color: #008000; font-weight: bold\">SUCCESS!</span><span style=\"color: #c0c0c0; text-decoration-color: #c0c0c0; font-weight: bold\">: </span><span style=\"color: #808000; text-decoration-color: #808000; font-weight: bold\">All features are present in the dataset</span>\n",
       "</pre>\n"
      ],
      "text/plain": [
       ">>> \u001b[1m[\u001b[0m\u001b[1;92m19:58:05\u001b[0m\u001b[1m]\u001b[0m \u001b[1;32mSUCCESS!\u001b[0m\u001b[1;37m: \u001b[0m\u001b[1;33mAll features are present in the dataset\u001b[0m\n"
      ]
     },
     "metadata": {},
     "output_type": "display_data"
    },
    {
     "data": {
      "text/html": [
       "<pre style=\"white-space:pre;overflow-x:auto;line-height:normal;font-family:Menlo,'DejaVu Sans Mono',consolas,'Courier New',monospace\">&gt;&gt;&gt; <span style=\"font-weight: bold\">[</span><span style=\"color: #00ff00; text-decoration-color: #00ff00; font-weight: bold\">19:58:05</span><span style=\"font-weight: bold\">]</span> <span style=\"color: #008000; text-decoration-color: #008000; font-weight: bold\">SUCCESS!</span><span style=\"color: #c0c0c0; text-decoration-color: #c0c0c0; font-weight: bold\">: </span><span style=\"color: #808000; text-decoration-color: #808000; font-weight: bold\">Removed features from dataset </span><span style=\"color: #800080; text-decoration-color: #800080; font-weight: bold\">REMOVED FEATURES</span><span style=\"color: #808000; text-decoration-color: #808000; font-weight: bold\">: </span><span style=\"color: #008080; text-decoration-color: #008080; font-weight: bold\">[</span><span style=\"color: #008080; text-decoration-color: #008080; font-weight: bold\">'curricular_units_1st_sem_credited'</span><span style=\"color: #008080; text-decoration-color: #008080; font-weight: bold\">, </span>\n",
       "<span style=\"color: #008080; text-decoration-color: #008080; font-weight: bold\">'curricular_units_1st_sem_enrolled'</span><span style=\"color: #008080; text-decoration-color: #008080; font-weight: bold\">, </span><span style=\"color: #008080; text-decoration-color: #008080; font-weight: bold\">'curricular_units_1st_sem_evaluations'</span><span style=\"color: #008080; text-decoration-color: #008080; font-weight: bold\">, </span><span style=\"color: #008080; text-decoration-color: #008080; font-weight: bold\">'curricular_units_1st_sem_approved'</span><span style=\"color: #008080; text-decoration-color: #008080; font-weight: bold\">, </span>\n",
       "<span style=\"color: #008080; text-decoration-color: #008080; font-weight: bold\">'curricular_units_1st_sem_grade'</span><span style=\"color: #008080; text-decoration-color: #008080; font-weight: bold\">, </span><span style=\"color: #008080; text-decoration-color: #008080; font-weight: bold\">'unemployment_rate'</span><span style=\"color: #008080; text-decoration-color: #008080; font-weight: bold\">, </span><span style=\"color: #008080; text-decoration-color: #008080; font-weight: bold\">'inflation_rate'</span><span style=\"color: #008080; text-decoration-color: #008080; font-weight: bold\">, </span><span style=\"color: #008080; text-decoration-color: #008080; font-weight: bold\">'gdp'</span><span style=\"color: #008080; text-decoration-color: #008080; font-weight: bold\">]</span>\n",
       "</pre>\n"
      ],
      "text/plain": [
       ">>> \u001b[1m[\u001b[0m\u001b[1;92m19:58:05\u001b[0m\u001b[1m]\u001b[0m \u001b[1;32mSUCCESS!\u001b[0m\u001b[1;37m: \u001b[0m\u001b[1;33mRemoved features from dataset \u001b[0m\u001b[1;35mREMOVED FEATURES\u001b[0m\u001b[1;33m: \u001b[0m\u001b[1;36m[\u001b[0m\u001b[1;36m'curricular_units_1st_sem_credited'\u001b[0m\u001b[1;36m, \u001b[0m\n",
       "\u001b[1;36m'curricular_units_1st_sem_enrolled'\u001b[0m\u001b[1;36m, \u001b[0m\u001b[1;36m'curricular_units_1st_sem_evaluations'\u001b[0m\u001b[1;36m, \u001b[0m\u001b[1;36m'curricular_units_1st_sem_approved'\u001b[0m\u001b[1;36m, \u001b[0m\n",
       "\u001b[1;36m'curricular_units_1st_sem_grade'\u001b[0m\u001b[1;36m, \u001b[0m\u001b[1;36m'unemployment_rate'\u001b[0m\u001b[1;36m, \u001b[0m\u001b[1;36m'inflation_rate'\u001b[0m\u001b[1;36m, \u001b[0m\u001b[1;36m'gdp'\u001b[0m\u001b[1;36m]\u001b[0m\n"
      ]
     },
     "metadata": {},
     "output_type": "display_data"
    }
   ],
   "source": [
    "continuous_features_remove = [\n",
    "    # Keep 2nd semester only (higher target correlation)\n",
    "    'curricular_units_1st_sem_credited',     # VIF=15.57\n",
    "    'curricular_units_1st_sem_enrolled',     # VIF=23.49\n",
    "    'curricular_units_1st_sem_evaluations',\n",
    "    'curricular_units_1st_sem_approved',\n",
    "    'curricular_units_1st_sem_grade',\n",
    "    # Weak economic predictors\n",
    "    'unemployment_rate',                      # correlation = -0.03\n",
    "    'inflation_rate',                         # correlation = 0.02\n",
    "    'gdp'                                     # correlation = 0.05\n",
    "]\n",
    "\n",
    "# Check that features exist in the dataset\n",
    "check_features_are_present(df_dataset, continuous_features_remove)\n",
    "\n",
    "# Remove these features from the dataset\n",
    "df_dataset.drop(columns=continuous_features_remove, inplace=True)\n",
    "tools.print_message('success', 'Removed features from dataset', format_dict={'removed features': continuous_features_remove})"
   ]
  },
  {
   "cell_type": "markdown",
   "id": "90101679",
   "metadata": {},
   "source": [
    "## 2.E Continuous Features - Strong Predictors"
   ]
  },
  {
   "cell_type": "code",
   "execution_count": 27,
   "id": "aefd4b98",
   "metadata": {},
   "outputs": [
    {
     "data": {
      "text/html": [
       "<pre style=\"white-space:pre;overflow-x:auto;line-height:normal;font-family:Menlo,'DejaVu Sans Mono',consolas,'Courier New',monospace\">&gt;&gt;&gt; <span style=\"font-weight: bold\">[</span><span style=\"color: #00ff00; text-decoration-color: #00ff00; font-weight: bold\">19:58:05</span><span style=\"font-weight: bold\">]</span> <span style=\"color: #008000; text-decoration-color: #008000; font-weight: bold\">SUCCESS!</span><span style=\"color: #c0c0c0; text-decoration-color: #c0c0c0; font-weight: bold\">: </span><span style=\"color: #808000; text-decoration-color: #808000; font-weight: bold\">All features are present in the dataset</span>\n",
       "</pre>\n"
      ],
      "text/plain": [
       ">>> \u001b[1m[\u001b[0m\u001b[1;92m19:58:05\u001b[0m\u001b[1m]\u001b[0m \u001b[1;32mSUCCESS!\u001b[0m\u001b[1;37m: \u001b[0m\u001b[1;33mAll features are present in the dataset\u001b[0m\n"
      ]
     },
     "metadata": {},
     "output_type": "display_data"
    }
   ],
   "source": [
    "continuous_features_keep = [\n",
    "    # High target correlation\n",
    "    'curricular_units_2nd_sem_grade',        # correlation = 0.57\n",
    "    'curricular_units_2nd_sem_approved',     # correlation = 0.57\n",
    "    'age_at_enrollment',                      # correlation = -0.25\n",
    "    'curricular_units_2nd_sem_enrolled',\n",
    "    'curricular_units_2nd_sem_evaluations',\n",
    "    # Moderate predictors  \n",
    "    'previous_qualification_grade',           # correlation = 0.08\n",
    "    'admission_grade'                         # correlation = 0.10\n",
    "]\n",
    "\n",
    "# Check that features exist in the dataset\n",
    "check_features_are_present(df_dataset, continuous_features_keep)"
   ]
  }
 ],
 "metadata": {
  "kernelspec": {
   "display_name": "venv",
   "language": "python",
   "name": "python3"
  },
  "language_info": {
   "codemirror_mode": {
    "name": "ipython",
    "version": 3
   },
   "file_extension": ".py",
   "mimetype": "text/x-python",
   "name": "python",
   "nbconvert_exporter": "python",
   "pygments_lexer": "ipython3",
   "version": "3.11.5"
  }
 },
 "nbformat": 4,
 "nbformat_minor": 5
}
